{
 "cells": [
  {
   "cell_type": "code",
   "execution_count": 1,
   "metadata": {},
   "outputs": [],
   "source": [
    "import pandas as pd"
   ]
  },
  {
   "cell_type": "code",
   "execution_count": 2,
   "metadata": {},
   "outputs": [
    {
     "data": {
      "text/html": [
       "<div>\n",
       "<style scoped>\n",
       "    .dataframe tbody tr th:only-of-type {\n",
       "        vertical-align: middle;\n",
       "    }\n",
       "\n",
       "    .dataframe tbody tr th {\n",
       "        vertical-align: top;\n",
       "    }\n",
       "\n",
       "    .dataframe thead th {\n",
       "        text-align: right;\n",
       "    }\n",
       "</style>\n",
       "<table border=\"1\" class=\"dataframe\">\n",
       "  <thead>\n",
       "    <tr style=\"text-align: right;\">\n",
       "      <th></th>\n",
       "      <th>text</th>\n",
       "      <th>summary1</th>\n",
       "      <th>summary2</th>\n",
       "    </tr>\n",
       "  </thead>\n",
       "  <tbody>\n",
       "    <tr>\n",
       "      <th>0</th>\n",
       "      <td>My boyfriend and I are long distance. We have ...</td>\n",
       "      <td>Mum is mad at me for not flying on my own tri...</td>\n",
       "      <td>I have made sure my mother is comfortable wit...</td>\n",
       "    </tr>\n",
       "    <tr>\n",
       "      <th>1</th>\n",
       "      <td>My landlord left a falsified message taped to ...</td>\n",
       "      <td>My landlord is harassing me and my neighbours...</td>\n",
       "      <td>landlord pretended to be another tenant and w...</td>\n",
       "    </tr>\n",
       "    <tr>\n",
       "      <th>2</th>\n",
       "      <td>A few months ago, I asked my RA if she wanted ...</td>\n",
       "      <td>RA owes me money, made me buy her toys in a f...</td>\n",
       "      <td>RA verbally abused me and I want to get her t...</td>\n",
       "    </tr>\n",
       "    <tr>\n",
       "      <th>3</th>\n",
       "      <td>1) I got a DWI in 2014\\n\\n2) I have a wonderfu...</td>\n",
       "      <td>10) On a scale from 1-10, how mad would you b...</td>\n",
       "      <td>I am stuck at work, my girlfriend is going to...</td>\n",
       "    </tr>\n",
       "    <tr>\n",
       "      <th>4</th>\n",
       "      <td>So my wedding dress arrived last week. I had s...</td>\n",
       "      <td>My dress looks different to how I wanted it, ...</td>\n",
       "      <td>My mother asked my dress maker to change the ...</td>\n",
       "    </tr>\n",
       "  </tbody>\n",
       "</table>\n",
       "</div>"
      ],
      "text/plain": [
       "                                                text  \\\n",
       "0  My boyfriend and I are long distance. We have ...   \n",
       "1  My landlord left a falsified message taped to ...   \n",
       "2  A few months ago, I asked my RA if she wanted ...   \n",
       "3  1) I got a DWI in 2014\\n\\n2) I have a wonderfu...   \n",
       "4  So my wedding dress arrived last week. I had s...   \n",
       "\n",
       "                                            summary1  \\\n",
       "0   Mum is mad at me for not flying on my own tri...   \n",
       "1   My landlord is harassing me and my neighbours...   \n",
       "2   RA owes me money, made me buy her toys in a f...   \n",
       "3   10) On a scale from 1-10, how mad would you b...   \n",
       "4   My dress looks different to how I wanted it, ...   \n",
       "\n",
       "                                            summary2  \n",
       "0   I have made sure my mother is comfortable wit...  \n",
       "1   landlord pretended to be another tenant and w...  \n",
       "2   RA verbally abused me and I want to get her t...  \n",
       "3   I am stuck at work, my girlfriend is going to...  \n",
       "4   My mother asked my dress maker to change the ...  "
      ]
     },
     "execution_count": 2,
     "metadata": {},
     "output_type": "execute_result"
    }
   ],
   "source": [
    "df = pd.read_csv('data.csv')\n",
    "df.head()"
   ]
  },
  {
   "cell_type": "code",
   "execution_count": 3,
   "metadata": {},
   "outputs": [
    {
     "data": {
      "text/plain": [
       "\"Hey Reddit,\\n\\nSo My lady and I have been in a relationship for over a year now. I know I can speak for both of us when I say we are still having a blast. I have some concerns though, it seems like the conversations are getting a little less intimate, a little less thorough. I love her reddit. She is the most down to earth, good looking, hysterical woman I've ever met. I am afraid of growing apart. \\n\\nI know I'm doing a good job of being a boyfriend. It is a top priority of mine. My question is to the couples that have been together for at least a couple years. What makes a solid relationship? I know it can be a little tough at some points but it's worth fighting for. What keeps that spark going in all you couples that have made it for years? And most of all, what do you keep talking about? Should this all be coming natural to me?\""
      ]
     },
     "execution_count": 3,
     "metadata": {},
     "output_type": "execute_result"
    }
   ],
   "source": [
    "df['text'].iloc[4960]"
   ]
  },
  {
   "cell_type": "code",
   "execution_count": null,
   "metadata": {},
   "outputs": [],
   "source": []
  }
 ],
 "metadata": {
  "kernelspec": {
   "display_name": "Python 3",
   "language": "python",
   "name": "python3"
  },
  "language_info": {
   "codemirror_mode": {
    "name": "ipython",
    "version": 3
   },
   "file_extension": ".py",
   "mimetype": "text/x-python",
   "name": "python",
   "nbconvert_exporter": "python",
   "pygments_lexer": "ipython3",
   "version": "3.10.4"
  }
 },
 "nbformat": 4,
 "nbformat_minor": 2
}
