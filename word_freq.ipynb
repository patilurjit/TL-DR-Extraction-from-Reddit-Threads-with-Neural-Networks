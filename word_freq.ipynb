{
 "cells": [
  {
   "cell_type": "code",
   "execution_count": 1,
   "metadata": {},
   "outputs": [
    {
     "name": "stderr",
     "output_type": "stream",
     "text": [
      "c:\\Users\\17327\\AppData\\Local\\Programs\\Python\\Python310\\lib\\site-packages\\scipy\\__init__.py:169: UserWarning: A NumPy version >=1.18.5 and <1.26.0 is required for this version of SciPy (detected version 1.26.1\n",
      "  warnings.warn(f\"A NumPy version >={np_minversion} and <{np_maxversion}\"\n",
      "[nltk_data] Downloading package punkt to\n",
      "[nltk_data]     C:\\Users\\17327\\AppData\\Roaming\\nltk_data...\n",
      "[nltk_data]   Package punkt is already up-to-date!\n",
      "[nltk_data] Downloading package stopwords to\n",
      "[nltk_data]     C:\\Users\\17327\\AppData\\Roaming\\nltk_data...\n",
      "[nltk_data]   Package stopwords is already up-to-date!\n"
     ]
    }
   ],
   "source": [
    "import nltk\n",
    "nltk.download('punkt')\n",
    "nltk.download('stopwords')\n",
    "from collections import Counter\n",
    "from nltk.corpus import stopwords\n",
    "from datasets import load_metric\n",
    "from nltk.tokenize import sent_tokenize, word_tokenize\n",
    "import pandas as pd"
   ]
  },
  {
   "cell_type": "code",
   "execution_count": 2,
   "metadata": {},
   "outputs": [],
   "source": [
    "def generate_summary(text, n):\n",
    "    sentences = sent_tokenize(text)\n",
    "\n",
    "    stop_words = set(stopwords.words('english'))\n",
    "    words = [word.lower() for word in word_tokenize(text) if word.lower() not in stop_words and word.isalnum()]\n",
    "\n",
    "    word_freq = Counter(words)\n",
    "\n",
    "    sentence_scores = {}\n",
    "\n",
    "    for sentence in sentences:\n",
    "        sentence_words = [word.lower() for word in word_tokenize(sentence) if word.lower() not in stop_words and word.isalnum()]\n",
    "        sentence_score = sum([word_freq[word] for word in sentence_words])\n",
    "        if len(sentence_words) < 20:\n",
    "            sentence_scores[sentence] = sentence_score\n",
    "\n",
    "    summary_sentences = sorted(sentence_scores, key=sentence_scores.get, reverse=True)[:n]\n",
    "    summary = ' '.join(summary_sentences)\n",
    "\n",
    "    return summary"
   ]
  },
  {
   "cell_type": "code",
   "execution_count": 3,
   "metadata": {},
   "outputs": [],
   "source": [
    "text = \"\"\"Recently, my fiance (20 m) and I (19f) moved into a new apartment with a mutual friend (20m) and \n",
    "somehow contracted scabies (don't know how). We've both been itchy af and have been to the doctor who confirmed \n",
    "that it was scabies for the both of us. Our room mate (20m) has not had symptoms of scabies bites appear yet but \n",
    "I have asked him to get treated as well and to treat his clothes and linen so that our apartment does not get \n",
    "reinfested after treatment.My room mate refuses to buy the lotion needed to kill the mites on his skin \n",
    "(if there are any on him) and refuses to rewash and dry his linen and clothes. I'm scared that if he does not get \n",
    "treated the infestation of our apartment will not go away. I'm almost there to asking him to move out if he refuses \n",
    "treatment. He is not on the lease.\"\"\""
   ]
  },
  {
   "cell_type": "code",
   "execution_count": 14,
   "metadata": {},
   "outputs": [
    {
     "name": "stdout",
     "output_type": "stream",
     "text": [
      "[\"Recently, my fiance (20 m) and I (19f) moved into a new apartment with a mutual friend (20m) and somehow contracted scabies (don't know how). I'm scared that if he does not get treated the infestation of our apartment will not go away. We've both been itchy af and have been to the doctor who confirmed that it was scabies for the both of us. I'm almost there to asking him to move out if he refuses treatment. He is not on the lease.\"]\n"
     ]
    }
   ],
   "source": [
    "summary = generate_summary(text, 5)\n",
    "formatted_summary = [summary.replace('\\n', '')]\n",
    "print(formatted_summary)"
   ]
  },
  {
   "cell_type": "code",
   "execution_count": 15,
   "metadata": {},
   "outputs": [],
   "source": [
    "metric = load_metric(\"rouge\")"
   ]
  },
  {
   "cell_type": "code",
   "execution_count": 16,
   "metadata": {},
   "outputs": [
    {
     "name": "stdout",
     "output_type": "stream",
     "text": [
      "{'rouge1': AggregateScore(low=Score(precision=0.29545454545454547, recall=0.7027027027027027, fmeasure=0.416), mid=Score(precision=0.29545454545454547, recall=0.7027027027027027, fmeasure=0.416), high=Score(precision=0.29545454545454547, recall=0.7027027027027027, fmeasure=0.416)), 'rouge2': AggregateScore(low=Score(precision=0.11494252873563218, recall=0.2777777777777778, fmeasure=0.1626016260162602), mid=Score(precision=0.11494252873563218, recall=0.2777777777777778, fmeasure=0.1626016260162602), high=Score(precision=0.11494252873563218, recall=0.2777777777777778, fmeasure=0.1626016260162602)), 'rougeL': AggregateScore(low=Score(precision=0.19318181818181818, recall=0.4594594594594595, fmeasure=0.272), mid=Score(precision=0.19318181818181818, recall=0.4594594594594595, fmeasure=0.272), high=Score(precision=0.19318181818181818, recall=0.4594594594594595, fmeasure=0.272)), 'rougeLsum': AggregateScore(low=Score(precision=0.19318181818181818, recall=0.4594594594594595, fmeasure=0.272), mid=Score(precision=0.19318181818181818, recall=0.4594594594594595, fmeasure=0.272), high=Score(precision=0.19318181818181818, recall=0.4594594594594595, fmeasure=0.272))}\n"
     ]
    }
   ],
   "source": [
    "reference_summary = [\"Fiance and I recently got infected with scabies. Room mate refuses to get treated and our apartment will not go away. I'm afraid he will leave if he doesn't. Should I ask him to leave?\"]  # Convert to a list\n",
    "\n",
    "results = metric.compute(predictions=formatted_summary, references=reference_summary)"
   ]
  },
  {
   "cell_type": "code",
   "execution_count": 17,
   "metadata": {},
   "outputs": [
    {
     "data": {
      "text/html": [
       "<div>\n",
       "<style scoped>\n",
       "    .dataframe tbody tr th:only-of-type {\n",
       "        vertical-align: middle;\n",
       "    }\n",
       "\n",
       "    .dataframe tbody tr th {\n",
       "        vertical-align: top;\n",
       "    }\n",
       "\n",
       "    .dataframe thead th {\n",
       "        text-align: right;\n",
       "    }\n",
       "</style>\n",
       "<table border=\"1\" class=\"dataframe\">\n",
       "  <thead>\n",
       "    <tr style=\"text-align: right;\">\n",
       "      <th></th>\n",
       "      <th>text</th>\n",
       "      <th>summary</th>\n",
       "      <th>summary_pred</th>\n",
       "      <th>rouge1</th>\n",
       "      <th>rouge2</th>\n",
       "      <th>rougeL</th>\n",
       "    </tr>\n",
       "  </thead>\n",
       "  <tbody>\n",
       "    <tr>\n",
       "      <th>0</th>\n",
       "      <td>Recently, my fiance (20 m) and I (19f) moved i...</td>\n",
       "      <td>Fiance and I recently got infected with scabie...</td>\n",
       "      <td>Recently, my fiance (20 m) and I (19f) moved i...</td>\n",
       "      <td>0.416</td>\n",
       "      <td>0.162602</td>\n",
       "      <td>0.272</td>\n",
       "    </tr>\n",
       "  </tbody>\n",
       "</table>\n",
       "</div>"
      ],
      "text/plain": [
       "                                                text  \\\n",
       "0  Recently, my fiance (20 m) and I (19f) moved i...   \n",
       "\n",
       "                                             summary  \\\n",
       "0  Fiance and I recently got infected with scabie...   \n",
       "\n",
       "                                        summary_pred  rouge1    rouge2  rougeL  \n",
       "0  Recently, my fiance (20 m) and I (19f) moved i...   0.416  0.162602   0.272  "
      ]
     },
     "execution_count": 17,
     "metadata": {},
     "output_type": "execute_result"
    }
   ],
   "source": [
    "rouge1 = []\n",
    "rouge2 = []\n",
    "rougeL = []\n",
    "\n",
    "results = metric.compute(predictions = formatted_summary, references = reference_summary)\n",
    "for key in [\"rouge1\", \"rouge2\", \"rougeL\"]:\n",
    "    if key == \"rouge1\":\n",
    "        rouge1.append(results[key].mid.fmeasure)\n",
    "    elif key == \"rouge2\":\n",
    "        rouge2.append(results[key].mid.fmeasure)\n",
    "    else:\n",
    "        rougeL.append(results[key].mid.fmeasure)\n",
    "\n",
    "df_results_sample = pd.DataFrame({\"text\": text,\n",
    "                                 \"summary\": reference_summary,\n",
    "                                 \"summary_pred\": formatted_summary,\n",
    "                                 \"rouge1\": rouge1,\n",
    "                                 \"rouge2\": rouge2,\n",
    "                                 \"rougeL\": rougeL}\n",
    "                                 )\n",
    "\n",
    "df_results_sample"
   ]
  },
  {
   "cell_type": "code",
   "execution_count": 18,
   "metadata": {},
   "outputs": [
    {
     "data": {
      "text/html": [
       "<div>\n",
       "<style scoped>\n",
       "    .dataframe tbody tr th:only-of-type {\n",
       "        vertical-align: middle;\n",
       "    }\n",
       "\n",
       "    .dataframe tbody tr th {\n",
       "        vertical-align: top;\n",
       "    }\n",
       "\n",
       "    .dataframe thead th {\n",
       "        text-align: right;\n",
       "    }\n",
       "</style>\n",
       "<table border=\"1\" class=\"dataframe\">\n",
       "  <thead>\n",
       "    <tr style=\"text-align: right;\">\n",
       "      <th></th>\n",
       "      <th>text</th>\n",
       "      <th>summary</th>\n",
       "    </tr>\n",
       "  </thead>\n",
       "  <tbody>\n",
       "    <tr>\n",
       "      <th>0</th>\n",
       "      <td>First things first - yes we're teenagers, youn...</td>\n",
       "      <td>Two months into relationship and I found out ...</td>\n",
       "    </tr>\n",
       "    <tr>\n",
       "      <th>1</th>\n",
       "      <td>My partner's cousin, E, often invites us over ...</td>\n",
       "      <td>Partner's cousin and her husband frequently i...</td>\n",
       "    </tr>\n",
       "    <tr>\n",
       "      <th>2</th>\n",
       "      <td>It was my 21st birthday. My gf went with me to...</td>\n",
       "      <td>Had drunken sex with my gf, only to find out ...</td>\n",
       "    </tr>\n",
       "  </tbody>\n",
       "</table>\n",
       "</div>"
      ],
      "text/plain": [
       "                                                text  \\\n",
       "0  First things first - yes we're teenagers, youn...   \n",
       "1  My partner's cousin, E, often invites us over ...   \n",
       "2  It was my 21st birthday. My gf went with me to...   \n",
       "\n",
       "                                             summary  \n",
       "0   Two months into relationship and I found out ...  \n",
       "1   Partner's cousin and her husband frequently i...  \n",
       "2   Had drunken sex with my gf, only to find out ...  "
      ]
     },
     "execution_count": 18,
     "metadata": {},
     "output_type": "execute_result"
    }
   ],
   "source": [
    "test_data = pd.read_csv('test_data.csv')\n",
    "test_data.head()"
   ]
  },
  {
   "cell_type": "code",
   "execution_count": 19,
   "metadata": {},
   "outputs": [
    {
     "data": {
      "text/html": [
       "<div>\n",
       "<style scoped>\n",
       "    .dataframe tbody tr th:only-of-type {\n",
       "        vertical-align: middle;\n",
       "    }\n",
       "\n",
       "    .dataframe tbody tr th {\n",
       "        vertical-align: top;\n",
       "    }\n",
       "\n",
       "    .dataframe thead th {\n",
       "        text-align: right;\n",
       "    }\n",
       "</style>\n",
       "<table border=\"1\" class=\"dataframe\">\n",
       "  <thead>\n",
       "    <tr style=\"text-align: right;\">\n",
       "      <th></th>\n",
       "      <th>text</th>\n",
       "      <th>summary</th>\n",
       "      <th>summary_pred</th>\n",
       "      <th>rouge1</th>\n",
       "      <th>rouge2</th>\n",
       "      <th>rougeL</th>\n",
       "    </tr>\n",
       "  </thead>\n",
       "  <tbody>\n",
       "    <tr>\n",
       "      <th>0</th>\n",
       "      <td>First things first - yes we're teenagers, youn...</td>\n",
       "      <td>Two months into relationship and I found out ...</td>\n",
       "      <td>But I have recently been told that the girl I ...</td>\n",
       "      <td>0.283688</td>\n",
       "      <td>0.172662</td>\n",
       "      <td>0.198582</td>\n",
       "    </tr>\n",
       "    <tr>\n",
       "      <th>1</th>\n",
       "      <td>My partner's cousin, E, often invites us over ...</td>\n",
       "      <td>Partner's cousin and her husband frequently i...</td>\n",
       "      <td>It doesn't seem as though E, her husband [29m]...</td>\n",
       "      <td>0.268293</td>\n",
       "      <td>0.061728</td>\n",
       "      <td>0.134146</td>\n",
       "    </tr>\n",
       "    <tr>\n",
       "      <th>2</th>\n",
       "      <td>It was my 21st birthday. My gf went with me to...</td>\n",
       "      <td>Had drunken sex with my gf, only to find out ...</td>\n",
       "      <td>My gf went with me to a strip club... first st...</td>\n",
       "      <td>0.180328</td>\n",
       "      <td>0.033333</td>\n",
       "      <td>0.098361</td>\n",
       "    </tr>\n",
       "  </tbody>\n",
       "</table>\n",
       "</div>"
      ],
      "text/plain": [
       "                                                text  \\\n",
       "0  First things first - yes we're teenagers, youn...   \n",
       "1  My partner's cousin, E, often invites us over ...   \n",
       "2  It was my 21st birthday. My gf went with me to...   \n",
       "\n",
       "                                             summary  \\\n",
       "0   Two months into relationship and I found out ...   \n",
       "1   Partner's cousin and her husband frequently i...   \n",
       "2   Had drunken sex with my gf, only to find out ...   \n",
       "\n",
       "                                        summary_pred    rouge1    rouge2  \\\n",
       "0  But I have recently been told that the girl I ...  0.283688  0.172662   \n",
       "1  It doesn't seem as though E, her husband [29m]...  0.268293  0.061728   \n",
       "2  My gf went with me to a strip club... first st...  0.180328  0.033333   \n",
       "\n",
       "     rougeL  \n",
       "0  0.198582  \n",
       "1  0.134146  \n",
       "2  0.098361  "
      ]
     },
     "execution_count": 19,
     "metadata": {},
     "output_type": "execute_result"
    }
   ],
   "source": [
    "input_text = []\n",
    "\n",
    "for i in range(len(test_data)):\n",
    "    input_text.append(test_data['text'][i])\n",
    "\n",
    "summary = []\n",
    "\n",
    "for i in range(len(input_text)):\n",
    "    summary_pred = generate_summary(input_text[i], 5)\n",
    "    summary_pred = summary_pred.replace('\\n', '')\n",
    "    summary.append(summary_pred)\n",
    "\n",
    "rouge1 = []\n",
    "rouge2 = []\n",
    "rougeL = []\n",
    "\n",
    "for i in range(len(summary)):\n",
    "    results = metric.compute(predictions = [summary[i]], references = [test_data['summary'][i]])\n",
    "    for key in [\"rouge1\", \"rouge2\", \"rougeL\"]:\n",
    "        if key == \"rouge1\":\n",
    "            rouge1.append(results[key].mid.fmeasure)\n",
    "        elif key == \"rouge2\":\n",
    "            rouge2.append(results[key].mid.fmeasure)\n",
    "        else:\n",
    "            rougeL.append(results[key].mid.fmeasure)\n",
    "\n",
    "df_results = pd.DataFrame({\"text\": input_text,\n",
    "                            \"summary\": test_data['summary'],\n",
    "                            \"summary_pred\": summary,\n",
    "                            \"rouge1\": rouge1,\n",
    "                            \"rouge2\": rouge2,\n",
    "                            \"rougeL\": rougeL}\n",
    "                              )\n",
    "\n",
    "df_results"
   ]
  }
 ],
 "metadata": {
  "kernelspec": {
   "display_name": "Python 3",
   "language": "python",
   "name": "python3"
  },
  "language_info": {
   "codemirror_mode": {
    "name": "ipython",
    "version": 3
   },
   "file_extension": ".py",
   "mimetype": "text/x-python",
   "name": "python",
   "nbconvert_exporter": "python",
   "pygments_lexer": "ipython3",
   "version": "3.10.4"
  }
 },
 "nbformat": 4,
 "nbformat_minor": 2
}
